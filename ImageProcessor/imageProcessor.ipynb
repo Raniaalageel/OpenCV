{
 "cells": [
  {
   "cell_type": "code",
   "execution_count": null,
   "metadata": {},
   "outputs": [],
   "source": [
    "import cv2\n",
    "import numpy as np"
   ]
  },
  {
   "cell_type": "code",
   "execution_count": null,
   "metadata": {},
   "outputs": [],
   "source": [
    "# haarcascade\n",
    "face_detect = cv2.CascadeClassifier('haarcascade_frontalface_default.xml')"
   ]
  },
  {
   "cell_type": "code",
   "execution_count": null,
   "metadata": {},
   "outputs": [],
   "source": [
    "def detect_faces(gray , frame):\n",
    "    \n",
    "    \"\"\"\n",
    "    This function for detect faces \n",
    "    1- detect faces in image\n",
    "    2- draw blue rectangle around the face \n",
    "    \"\"\"\n",
    "\n",
    "    faces = face_detect.detectMultiScale(gray,1.3 ,5)\n",
    "\n",
    "    # (x , y , w , h)\n",
    "\n",
    "    for (x, y, w, h) in faces:\n",
    "        cv2.rectangle(frame, (x,y), (x+w,y+h) , (255,0,0) , 2)\n",
    "\n",
    "    return frame\n",
    "\n"
   ]
  },
  {
   "cell_type": "code",
   "execution_count": null,
   "metadata": {},
   "outputs": [
    {
     "ename": "",
     "evalue": "",
     "output_type": "error",
     "traceback": [
      "\u001b[1;31mThe Kernel crashed while executing code in the the current cell or a previous cell. Please review the code in the cell(s) to identify a possible cause of the failure. Click <a href='https://aka.ms/vscodeJupyterKernelCrash'>here</a> for more info. View Jupyter <a href='command:jupyter.viewOutput'>log</a> for further details."
     ]
    }
   ],
   "source": [
    "img = cv2.imread('image3.jpeg')\n",
    "\n",
    "while True:\n",
    "    \n",
    "    # _, frame = cap.read()\n",
    "    \n",
    "\n",
    "    # gray = cv2.cvtColor(frame, cv2.COLOR_BGR2GRAY)\n",
    "    # detect = detect_faces(gray, frame)\n",
    "\n",
    "    gray = cv2.cvtColor(img, cv2.COLOR_BGR2GRAY)\n",
    "    detect = detect_faces(gray, img)\n",
    "    \n",
    "    hsv = cv2.cvtColor(img, cv2.COLOR_BGR2HSV)\n",
    "      \n",
    "    # Threshold of blue in HSV space\n",
    "    lower_blue = np.array([60, 35, 140])\n",
    "    upper_blue = np.array([180, 255, 255])\n",
    "  \n",
    "    # preparing the mask to overlay\n",
    "    mask = cv2.inRange(hsv, lower_blue, upper_blue)\n",
    "      \n",
    "    # The black region in the mask has the value of 0,\n",
    "    # so when multiplied with original image removes all non-blue regions\n",
    "    result = cv2.bitwise_and(img, img, mask = mask)\n",
    "\n",
    "    lab = cv2.cvtColor(img, cv2.COLOR_BGR2LAB)\n",
    "    # Shows the image\n",
    "    cv2.imshow('imageLAB', lab) \n",
    "    cv2.imshow('imageHSV', hsv) \n",
    "  \n",
    "    # cv2.waitKey(0)         \n",
    "    # cv2.destroyAllWindows()\n",
    "  \n",
    "   \n",
    "\n",
    "    cv2.imshow('Actual image' , detect)\n",
    "    cv2.imshow('Masked Image ', mask)\n",
    "    cv2.imshow('Blue Color segmented regions', result)\n",
    "    \n",
    "\n",
    "    # esc\n",
    "    k = cv2.waitKey(1) & 0xFF\n",
    "    if k == 27:\n",
    "        break\n",
    "\n",
    "# cap.release()\n",
    "# img.release()\n",
    "cv2.waitKey(0)         \n",
    "cv2.destroyAllWindows()"
   ]
  },
  {
   "cell_type": "code",
   "execution_count": null,
   "metadata": {},
   "outputs": [],
   "source": [
    "from sklearn.cluster import KMeans\n",
    "import matplotlib.pyplot as plt\n",
    "from collections import Counter\n",
    "from skimage.color import rgb2lab, deltaE_cie76\n",
    "import os\n",
    "\n",
    "\n",
    "image = cv2.imread('image3.jpg',0)\n",
    "print(\"The type of this input is {}\".format(type(image)))\n",
    "print(\"Shape: {}\".format(image.shape))\n",
    "plt.imshow(image)\n"
   ]
  },
  {
   "cell_type": "code",
   "execution_count": null,
   "metadata": {},
   "outputs": [],
   "source": []
  }
 ],
 "metadata": {
  "kernelspec": {
   "display_name": "base",
   "language": "python",
   "name": "python3"
  },
  "language_info": {
   "codemirror_mode": {
    "name": "ipython",
    "version": 3
   },
   "file_extension": ".py",
   "mimetype": "text/x-python",
   "name": "python",
   "nbconvert_exporter": "python",
   "pygments_lexer": "ipython3",
   "version": "3.8.5"
  },
  "orig_nbformat": 4
 },
 "nbformat": 4,
 "nbformat_minor": 2
}
